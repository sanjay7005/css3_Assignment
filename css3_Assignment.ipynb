{
  "nbformat": 4,
  "nbformat_minor": 0,
  "metadata": {
    "colab": {
      "provenance": []
    },
    "kernelspec": {
      "name": "python3",
      "display_name": "Python 3"
    },
    "language_info": {
      "name": "python"
    }
  },
  "cells": [
    {
      "cell_type": "markdown",
      "source": [
        "# **Task 1:**\n",
        "\n",
        "\n",
        "Problem Statement;\n",
        "\n",
        "Write code to position 5 equal-sized (50 X 50px) boxes A, B, C, D, and E as follows.\n",
        "1. box A 200px from the left, and 200px from the top of the viewportH\n",
        "2. box B -30px left, and -30px above from the center of box A\n",
        "3. box B -30px right, and -30px above from the center of box A\n",
        "4. box B -30px left, and -30px below from the center of box A\n",
        "5. box B -30px right, and -30px below from the center of box A."
      ],
      "metadata": {
        "id": "k8oacQpqdbRj"
      }
    },
    {
      "cell_type": "code",
      "source": [
        "<!DOCTYPE html>\n",
        "<html>\n",
        "  <head>\n",
        "    <title>Hello, World!</title>\n",
        "    <link rel=\"stylesheet\" href=\"styles.css\" />\n",
        "  </head>\n",
        "  <body>\n",
        "    <div class=\"container\">\n",
        "    <div id=\"box-a\">A</div>\n",
        "    <div id=\"box-b\">B</div>\n",
        "    <div id=\"box-c\">C</div>\n",
        "    <div id=\"box-d\">D</div>\n",
        "    <div id=\"box-e\">E</div>\n",
        "    </div>\n",
        "  </body>\n",
        "</html>\n",
        "\n",
        ".container{\n",
        "width:600px;\n",
        "height:600px;\n",
        "background-color:skyblue;\n",
        "border:1px solid black;\n",
        "position: relative;\n",
        "}\n",
        "#box-a{\n",
        "  position: absolute;\n",
        "  width: 50px;\n",
        "  height: 50px;\n",
        "  left:200px0px;\n",
        "  top:200px;\n",
        "  color:white;\n",
        "}\n",
        "#box-b{\n",
        "  position: absolute;\n",
        "  width:50px;\n",
        "  height: 50px;\n",
        "  left:30px;\n",
        "  top:30px;\n",
        "  color:white;\n",
        "\n",
        "}\n",
        "#box-c{\n",
        "  width:50px;\n",
        "  height:50px;\n",
        "  position: absolute;\n",
        "  right:30px;\n",
        "  top:30px;\n",
        "  color:white;\n",
        "}\n",
        "#box-d{\n",
        "  width:50px;\n",
        "  height:50px;\n",
        "  position: absolute;\n",
        "  left:30px;\n",
        "  bottom:30px;\n",
        "  color:white;\n",
        "}\n",
        "#box-e{\n",
        "  width:50px;\n",
        "  height:50px;\n",
        "  position: absolute;\n",
        "  right:30px;\n",
        "  bottom:30px;\n",
        "  color:white;\n",
        "}"
      ],
      "metadata": {
        "id": "qwX21zLJeHr_"
      },
      "execution_count": null,
      "outputs": []
    },
    {
      "cell_type": "markdown",
      "source": [
        "# **Task 2:**\n",
        "\n",
        "\n",
        "Problem Statement\n",
        "\n",
        "Explain the difference between Absolute and Relative positioning.\n",
        "\n",
        "1. Absolute Positioning (position: absolute):\n",
        "Positioning Context: When an element is given position: absolute, it's positioned relative to the nearest positioned ancestor (an element with a position value of relative, absolute, or fixed). If there’s no positioned ancestor, it will be positioned relative to the initial containing block (usually the <html> element).\n",
        "\n",
        "Impact on Layout: The element is removed from the normal document flow, meaning it doesn't affect the position of other elements on the page. It can overlap other elements, and the layout of those elements won't be affected by the absolute element.\n",
        "\n",
        "Example:\n"
      ],
      "metadata": {
        "id": "9wXrSXMcfBUh"
      }
    },
    {
      "cell_type": "code",
      "source": [
        "\n",
        ".absolute {\n",
        "  position: absolute;\n",
        "  top: 20px;\n",
        "  left: 30px;\n",
        "}\n",
        "\n"
      ],
      "metadata": {
        "id": "VkClOa-nfl-9"
      },
      "execution_count": null,
      "outputs": []
    },
    {
      "cell_type": "markdown",
      "source": [
        "2. Relative Positioning (position: relative):\n",
        "Positioning Context: When an element has position: relative, it's positioned relative to where it would normally be in the document flow. This means it will still occupy space in the layout as if it were static, but you can shift it from its normal position using the top, right, bottom, or left properties.\n",
        "\n",
        "Impact on Layout: The element remains in the normal document flow, so it still affects the layout of other elements. However, its visual position is adjusted relative to where it would normally be placed.\n",
        "\n",
        "Example:\n",
        "\n"
      ],
      "metadata": {
        "id": "n1hU88zwf1Ip"
      }
    },
    {
      "cell_type": "code",
      "source": [
        ".relative {\n",
        "  position: relative;\n",
        "  top: 20px;\n",
        "  left: 30px;\n",
        "}\n",
        "\n",
        "\n"
      ],
      "metadata": {
        "id": "bX7nwFOegOTo"
      },
      "execution_count": null,
      "outputs": []
    },
    {
      "cell_type": "markdown",
      "source": [],
      "metadata": {
        "id": "qPyb6xdhgUZI"
      }
    },
    {
      "cell_type": "markdown",
      "source": [
        "# **Task 3:**\n",
        "\n",
        "\n",
        "Problem Statement\n",
        "\n",
        "```\n",
        "`# This is formatted as code`\n",
        "```\n",
        "\n",
        "\n",
        "\n",
        "Create a card as shown in the picture below. (You can use CSS float property only for layout).\n",
        "\n",
        "\n"
      ],
      "metadata": {
        "id": "T3WPxGbXgU1Q"
      }
    },
    {
      "cell_type": "code",
      "source": [
        "<!DOCTYPE html>\n",
        "<html>\n",
        "  <head>\n",
        "    <title>Hello, World!</title>\n",
        "    <link rel=\"stylesheet\" href=\"style10.css\" />\n",
        "  </head>\n",
        "  <body>\n",
        "    <div class=\"container\">\n",
        "    <img src=\"data:image/jpeg;base64,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\"/>\n",
        "    <p>\n",
        "        <h1>The Earth!!!</h1>\n",
        "    World Earth Day is a day to celebrate our planet and learn how to take better care of it.\n",
        "    We celebrate it every year to remember how important Earth is.\n",
        "    On this day, we can plant trees, clean up parks, and make posters about saving Earth.\n",
        "    These activities help our planet be a healthier place.\n",
        "\n",
        "    Earth Day is special because it teaches us to care for Earth not just today, but every day!\n",
        "    World Earth Day is a global event celebrated on April 22 each year to emphasize the need for\n",
        "    environmental stewardship. The day serves as a reminder of the importance of maintaining our\n",
        "\n",
        "    planet’s health through activities such as recycling, conserving energy, and using sustainable resources.\n",
        "    Schools and communities often host educational sessions where children and adults can learn how to reduce\n",
        "    their carbon footprint. For example, my friends and I participate in tree-planting events and help organize\n",
        "\n",
        "    workshops on making sustainable choices at home. Earth Day is vital because it educates us about environmental\n",
        "    issues and provides a platform for individuals to contribute actively to conservation efforts. The day is special\n",
        "    because it unites people from different backgrounds in a common goal: to ensure a vibrant future for our planet.\n",
        "\n",
        "\n",
        "    </p>\n",
        "    </div>\n",
        "  </body>\n",
        "</html>\n",
        "\n",
        "img{\n",
        "    float:right;\n",
        "}\n",
        ".container{\n",
        "    background-color: antiquewhite;\n",
        "    border: 2px solid black;\n",
        "}\n",
        "\n",
        "\n",
        "\n"
      ],
      "metadata": {
        "id": "VWXchWcHkrjy"
      },
      "execution_count": null,
      "outputs": []
    },
    {
      "cell_type": "markdown",
      "source": [
        "# **Task 4:**\n",
        "\n",
        "\n",
        "Problem Statement\n",
        "\n",
        "Create a simple header that sticks to the top of a webpage upon scrolling.\n",
        "\n"
      ],
      "metadata": {
        "id": "SdqXBn-p0YLo"
      }
    },
    {
      "cell_type": "code",
      "source": [
        "<!DOCTYPE html>\n",
        "<html lang=\"en\">\n",
        "<head>\n",
        "    <meta charset=\"UTF-8\">\n",
        "    <meta name=\"viewport\" content=\"width=device-width, initial-scale=1.0\">\n",
        "    <link rel=\"stylesheet\" href=\"style10.css\">\n",
        "    <title>Document</title>\n",
        "</head>\n",
        "<body>\n",
        "    <nav>\n",
        "        <div class=\"navbar\">\n",
        "            <div class=\"link\">\n",
        "            <a href=\"a\" class=\"logo\">logo</a>\n",
        "            <a href=\"b\" class=\"home\">home</a>\n",
        "            <a href=\"c\" class=\"right\">Pricing</a>\n",
        "            <a href=\"d\" class=\"right\">Contact</a>\n",
        "            <a href=\"e\" class=\"right\">term and condition</a>\n",
        "            <a href=\"f\" class=\"right\" id=\"box\">get started</a>\n",
        "            </div>\n",
        "\n",
        "        </nav>\n",
        "        <div class=\"overflow\">\n",
        "        <h1>Heading-1</h1>\n",
        "    <p>fermentum velit sollicitudin. Suspendisse potenti. Cras luctus augue eget felis viverra, nec vestibulum ante aliquam. Sed aliquet est vitae enim pharetra tincidunt. Aenean ut quam sed tortor varius facilisis. Nam consectetur volutpat risus, ac posuere eros ullamcorper id. Morbi vitae risus id libero laoreet efficitur sit amet eu velit. Integer posuere, enim in tempor gravida, neque sapien dictum ipsum, et accumsan orci lectus eget metus. Donec auctor, metus non eleifend hendrerit, magna ipsum tincidunt arcu, eu dapibus neque libero sit amet turpis.</p>\n",
        "    <h2>Heading-2</h2>\n",
        "    <p>Sed condimentum, nunc eu egestas auctor, lorem ligula elementum eros, id dignissim lorem turpis non leo. Etiam sed nunc nec odio bibendum rutrum in ac leo. Nulla ac mi fringilla, viverra lectus a, maximus mi. Aliquam interdum magna ut ante euismod efficitur. Ut vehicula orci eu urna facilisis, nec tempor ante pharetra. Morbi fringilla orci eu egestas faucibus. In venenatis tempor justo, sed viverra urna rutrum et. Proin ultricies lobortis libero, vitae convallis tortor bibendum at.</p>\n",
        "    <h3>Heading-3</h3>\n",
        "    <p>Sed condimentum, nunc eu egestas auctor, lorem ligula elementum eros, id dignissim lorem turpis non leo. Etiam sed nunc nec odio bibendum rutrum in ac leo. Nulla ac mi fringilla, viverra lectus a, maximus mi. Aliquam interdum magna ut ante euismod efficitur. Ut vehicula orci eu urna facilisis, nec tempor ante pharetra. Morbi fringilla orci eu egestas faucibus. In venenatis tempor justo, sed viverra urna rutrum et. Proin ultricies lobortis libero, vitae convallis tortor bibendum at.</p>\n",
        "    </div>\n",
        "</div>\n",
        "</body>\n",
        "</html>\n",
        "\n",
        ".navbar{\n",
        "    position: fixed;\n",
        "    border: 1px solid red;\n",
        "    display: flex;\n",
        "    justify-content: space-between;\n",
        "    padding: 20px;\n",
        "    width: 600px;\n",
        "    background-color: #333;\n",
        "\n",
        "\n",
        "}\n",
        ".navbar .logo{\n",
        "    font-size:20px;\n",
        "    color:white;\n",
        "}\n",
        ".navbar .home{\n",
        "    font-size:20px;\n",
        "    color:white;\n",
        "    position: relative;\n",
        "    left:200px;\n",
        "}\n",
        ".navbar .right{\n",
        "\n",
        "\n",
        "    position: relative;;\n",
        "    left:210px;\n",
        "    justify-content: space-between;\n",
        "    text-decoration: none;\n",
        "    color:gray;\n",
        "}\n",
        ".navbar #box{\n",
        "    color:blanchedalmond;\n",
        "    border:1px solid blanchedalmond;\n",
        "}\n",
        "\n",
        "\n",
        "\n",
        ".overflow{\n",
        "    width: 640px;\n",
        "    height: 300px;\n",
        "    overflow: scroll;\n",
        "    border: 1px solid black;\n",
        "}\n",
        "\n"
      ],
      "metadata": {
        "id": "42EdKsLw0hRO"
      },
      "execution_count": null,
      "outputs": []
    },
    {
      "cell_type": "markdown",
      "source": [
        "# **Task 5:**\n",
        "\n",
        "\n",
        "Problem Statement\n",
        "\n",
        "Explain the z-index, with a code example.\n",
        "\n",
        "The z-index is a CSS property that determines the stacking order of elements on a webpage. It is used when elements overlap each other, and it specifies which element should appear on top or at the bottom. Elements with a higher z-index value will appear in front of elements with a lower z-index value.\n",
        "\n",
        "How does z-index work?\n",
        "By default, elements without a specified z-index will stack in the order in which they appear in the HTML document (the last one will appear on top).\n",
        "\n",
        "The z-index only works on positioned elements, which means elements that have a position property set to relative, absolute, fixed, or sticky. It does not work on static elements (the default position).\n",
        "\n",
        "Values of z-index:\n",
        "Auto: This is the default value, and elements will stack in the order they appear in the document.\n",
        "\n",
        "Integer Values: You can assign positive, negative, or zero integer values to elements. Higher values will place the element in front of others.\n",
        "\n"
      ],
      "metadata": {
        "id": "NCz6XWRc026n"
      }
    },
    {
      "cell_type": "code",
      "source": [
        "<!DOCTYPE html>\n",
        "<html lang=\"en\">\n",
        "<head>\n",
        "    <meta charset=\"UTF-8\">\n",
        "    <meta name=\"viewport\" content=\"width=device-width, initial-scale=1.0\">\n",
        "    <title>z-index Example</title>\n",
        "    <style>\n",
        "        /* Styling for the first box */\n",
        "        .box1 {\n",
        "            position: absolute;\n",
        "            top: 50px;\n",
        "            left: 50px;\n",
        "            width: 200px;\n",
        "            height: 200px;\n",
        "            background-color: red;\n",
        "            z-index: 2;  /* Higher value, this will be in front */\n",
        "        }\n",
        "\n",
        "        /* Styling for the second box */\n",
        "        .box2 {\n",
        "            position: absolute;\n",
        "            top: 100px;\n",
        "            left: 100px;\n",
        "            width: 200px;\n",
        "            height: 200px;\n",
        "            background-color: blue;\n",
        "            z-index: 1;  /* Lower value, this will be behind */\n",
        "        }\n",
        "\n",
        "        /* Styling for the third box */\n",
        "        .box3 {\n",
        "            position: absolute;\n",
        "            top: 150px;\n",
        "            left: 150px;\n",
        "            width: 200px;\n",
        "            height: 200px;\n",
        "            background-color: green;\n",
        "            z-index: 3;  /* Highest value, this will be at the top */\n",
        "        }\n",
        "    </style>\n",
        "</head>\n",
        "<body>\n",
        "    <div class=\"box1\"></div>  <!-- Red Box -->\n",
        "    <div class=\"box2\"></div>  <!-- Blue Box -->\n",
        "    <div class=\"box3\"></div>  <!-- Green Box -->\n",
        "</body>\n",
        "</html>\n",
        "\n",
        "\n"
      ],
      "metadata": {
        "id": "c5UA-USn1i4R"
      },
      "execution_count": null,
      "outputs": []
    },
    {
      "cell_type": "markdown",
      "source": [],
      "metadata": {
        "id": "LQcrvUBWk5pI"
      }
    }
  ]
}